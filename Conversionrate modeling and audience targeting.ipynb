{
 "cells": [
  {
   "cell_type": "markdown",
   "id": "d548f7a8",
   "metadata": {},
   "source": [
    "# Conversion Rate Modeling and Audience Targeting\t"
   ]
  },
  {
   "cell_type": "markdown",
   "id": "f93e3318",
   "metadata": {},
   "source": [
    " ## 1. Load data"
   ]
  },
  {
   "cell_type": "code",
   "execution_count": 1,
   "id": "c0cce55c",
   "metadata": {},
   "outputs": [],
   "source": [
    "import os\n",
    "import pandas as pd\n",
    "import numpy as np\n",
    "import matplotlib.pyplot as plt\n",
    "from sklearn.model_selection import train_test_split\n",
    "from sklearn.preprocessing import OneHotEncoder, StandardScaler\n",
    "from sklearn.compose import ColumnTransformer\n",
    "from sklearn.pipeline import Pipeline\n",
    "from sklearn.metrics import (\n",
    "    roc_auc_score, average_precision_score, confusion_matrix,\n",
    "    classification_report, precision_recall_curve, roc_curve\n",
    ")\n",
    "from sklearn.linear_model import LogisticRegression\n",
    "from sklearn.ensemble import RandomForestClassifier\n",
    "from sklearn.inspection import PartialDependenceDisplay\n",
    "RANDOM_STATE = 42\n",
    "pd.set_option('display.max_columns', 50)\n",
    "pd.set_option('display.width', 350)\n",
    "df=pd.read_csv(r\"D:\\Conversion_rate_modeling\\conversion_project.csv\")"
   ]
  },
  {
   "cell_type": "code",
   "execution_count": 4,
   "id": "694e89f3",
   "metadata": {
    "collapsed": true
   },
   "outputs": [
    {
     "data": {
      "text/html": [
       "<div>\n",
       "<style scoped>\n",
       "    .dataframe tbody tr th:only-of-type {\n",
       "        vertical-align: middle;\n",
       "    }\n",
       "\n",
       "    .dataframe tbody tr th {\n",
       "        vertical-align: top;\n",
       "    }\n",
       "\n",
       "    .dataframe thead th {\n",
       "        text-align: right;\n",
       "    }\n",
       "</style>\n",
       "<table border=\"1\" class=\"dataframe\">\n",
       "  <thead>\n",
       "    <tr style=\"text-align: right;\">\n",
       "      <th></th>\n",
       "      <th>country</th>\n",
       "      <th>age</th>\n",
       "      <th>new_user</th>\n",
       "      <th>source</th>\n",
       "      <th>total_pages_visited</th>\n",
       "      <th>converted</th>\n",
       "    </tr>\n",
       "  </thead>\n",
       "  <tbody>\n",
       "    <tr>\n",
       "      <th>0</th>\n",
       "      <td>UK</td>\n",
       "      <td>25</td>\n",
       "      <td>1</td>\n",
       "      <td>Ads</td>\n",
       "      <td>1</td>\n",
       "      <td>0</td>\n",
       "    </tr>\n",
       "    <tr>\n",
       "      <th>1</th>\n",
       "      <td>US</td>\n",
       "      <td>23</td>\n",
       "      <td>1</td>\n",
       "      <td>Seo</td>\n",
       "      <td>5</td>\n",
       "      <td>0</td>\n",
       "    </tr>\n",
       "    <tr>\n",
       "      <th>2</th>\n",
       "      <td>US</td>\n",
       "      <td>28</td>\n",
       "      <td>1</td>\n",
       "      <td>Seo</td>\n",
       "      <td>4</td>\n",
       "      <td>0</td>\n",
       "    </tr>\n",
       "    <tr>\n",
       "      <th>3</th>\n",
       "      <td>China</td>\n",
       "      <td>39</td>\n",
       "      <td>1</td>\n",
       "      <td>Seo</td>\n",
       "      <td>5</td>\n",
       "      <td>0</td>\n",
       "    </tr>\n",
       "    <tr>\n",
       "      <th>4</th>\n",
       "      <td>US</td>\n",
       "      <td>30</td>\n",
       "      <td>1</td>\n",
       "      <td>Seo</td>\n",
       "      <td>6</td>\n",
       "      <td>0</td>\n",
       "    </tr>\n",
       "    <tr>\n",
       "      <th>5</th>\n",
       "      <td>US</td>\n",
       "      <td>31</td>\n",
       "      <td>0</td>\n",
       "      <td>Seo</td>\n",
       "      <td>1</td>\n",
       "      <td>0</td>\n",
       "    </tr>\n",
       "    <tr>\n",
       "      <th>6</th>\n",
       "      <td>China</td>\n",
       "      <td>27</td>\n",
       "      <td>1</td>\n",
       "      <td>Seo</td>\n",
       "      <td>4</td>\n",
       "      <td>0</td>\n",
       "    </tr>\n",
       "    <tr>\n",
       "      <th>7</th>\n",
       "      <td>US</td>\n",
       "      <td>23</td>\n",
       "      <td>0</td>\n",
       "      <td>Ads</td>\n",
       "      <td>4</td>\n",
       "      <td>0</td>\n",
       "    </tr>\n",
       "    <tr>\n",
       "      <th>8</th>\n",
       "      <td>UK</td>\n",
       "      <td>29</td>\n",
       "      <td>0</td>\n",
       "      <td>Direct</td>\n",
       "      <td>4</td>\n",
       "      <td>0</td>\n",
       "    </tr>\n",
       "    <tr>\n",
       "      <th>9</th>\n",
       "      <td>US</td>\n",
       "      <td>25</td>\n",
       "      <td>0</td>\n",
       "      <td>Ads</td>\n",
       "      <td>2</td>\n",
       "      <td>0</td>\n",
       "    </tr>\n",
       "  </tbody>\n",
       "</table>\n",
       "</div>"
      ],
      "text/plain": [
       "  country  age  new_user  source  total_pages_visited  converted\n",
       "0      UK   25         1     Ads                    1          0\n",
       "1      US   23         1     Seo                    5          0\n",
       "2      US   28         1     Seo                    4          0\n",
       "3   China   39         1     Seo                    5          0\n",
       "4      US   30         1     Seo                    6          0\n",
       "5      US   31         0     Seo                    1          0\n",
       "6   China   27         1     Seo                    4          0\n",
       "7      US   23         0     Ads                    4          0\n",
       "8      UK   29         0  Direct                    4          0\n",
       "9      US   25         0     Ads                    2          0"
      ]
     },
     "execution_count": 4,
     "metadata": {},
     "output_type": "execute_result"
    }
   ],
   "source": [
    "df.head(10)"
   ]
  },
  {
   "cell_type": "code",
   "execution_count": 5,
   "id": "53199d6e",
   "metadata": {
    "collapsed": true
   },
   "outputs": [
    {
     "name": "stdout",
     "output_type": "stream",
     "text": [
      "<class 'pandas.core.frame.DataFrame'>\n",
      "RangeIndex: 316200 entries, 0 to 316199\n",
      "Data columns (total 6 columns):\n",
      " #   Column               Non-Null Count   Dtype \n",
      "---  ------               --------------   ----- \n",
      " 0   country              316200 non-null  object\n",
      " 1   age                  316200 non-null  int64 \n",
      " 2   new_user             316200 non-null  int64 \n",
      " 3   source               316200 non-null  object\n",
      " 4   total_pages_visited  316200 non-null  int64 \n",
      " 5   converted            316200 non-null  int64 \n",
      "dtypes: int64(4), object(2)\n",
      "memory usage: 14.5+ MB\n"
     ]
    }
   ],
   "source": [
    "df.info()"
   ]
  },
  {
   "cell_type": "code",
   "execution_count": 6,
   "id": "68c0247f",
   "metadata": {
    "collapsed": true
   },
   "outputs": [
    {
     "data": {
      "text/plain": [
       "country                0\n",
       "age                    0\n",
       "new_user               0\n",
       "source                 0\n",
       "total_pages_visited    0\n",
       "converted              0\n",
       "dtype: int64"
      ]
     },
     "execution_count": 6,
     "metadata": {},
     "output_type": "execute_result"
    }
   ],
   "source": [
    "df.isna().sum() # check missing data, no missing in this dataset"
   ]
  },
  {
   "cell_type": "code",
   "execution_count": 7,
   "id": "886bb795",
   "metadata": {
    "collapsed": true
   },
   "outputs": [
    {
     "data": {
      "text/html": [
       "<div>\n",
       "<style scoped>\n",
       "    .dataframe tbody tr th:only-of-type {\n",
       "        vertical-align: middle;\n",
       "    }\n",
       "\n",
       "    .dataframe tbody tr th {\n",
       "        vertical-align: top;\n",
       "    }\n",
       "\n",
       "    .dataframe thead th {\n",
       "        text-align: right;\n",
       "    }\n",
       "</style>\n",
       "<table border=\"1\" class=\"dataframe\">\n",
       "  <thead>\n",
       "    <tr style=\"text-align: right;\">\n",
       "      <th></th>\n",
       "      <th>age</th>\n",
       "      <th>new_user</th>\n",
       "      <th>total_pages_visited</th>\n",
       "      <th>converted</th>\n",
       "    </tr>\n",
       "  </thead>\n",
       "  <tbody>\n",
       "    <tr>\n",
       "      <th>count</th>\n",
       "      <td>316200.000000</td>\n",
       "      <td>316200.000000</td>\n",
       "      <td>316200.000000</td>\n",
       "      <td>316200.000000</td>\n",
       "    </tr>\n",
       "    <tr>\n",
       "      <th>mean</th>\n",
       "      <td>30.569858</td>\n",
       "      <td>0.685465</td>\n",
       "      <td>4.872966</td>\n",
       "      <td>0.032258</td>\n",
       "    </tr>\n",
       "    <tr>\n",
       "      <th>std</th>\n",
       "      <td>8.271802</td>\n",
       "      <td>0.464331</td>\n",
       "      <td>3.341104</td>\n",
       "      <td>0.176685</td>\n",
       "    </tr>\n",
       "    <tr>\n",
       "      <th>min</th>\n",
       "      <td>17.000000</td>\n",
       "      <td>0.000000</td>\n",
       "      <td>1.000000</td>\n",
       "      <td>0.000000</td>\n",
       "    </tr>\n",
       "    <tr>\n",
       "      <th>25%</th>\n",
       "      <td>24.000000</td>\n",
       "      <td>0.000000</td>\n",
       "      <td>2.000000</td>\n",
       "      <td>0.000000</td>\n",
       "    </tr>\n",
       "    <tr>\n",
       "      <th>50%</th>\n",
       "      <td>30.000000</td>\n",
       "      <td>1.000000</td>\n",
       "      <td>4.000000</td>\n",
       "      <td>0.000000</td>\n",
       "    </tr>\n",
       "    <tr>\n",
       "      <th>75%</th>\n",
       "      <td>36.000000</td>\n",
       "      <td>1.000000</td>\n",
       "      <td>7.000000</td>\n",
       "      <td>0.000000</td>\n",
       "    </tr>\n",
       "    <tr>\n",
       "      <th>max</th>\n",
       "      <td>123.000000</td>\n",
       "      <td>1.000000</td>\n",
       "      <td>29.000000</td>\n",
       "      <td>1.000000</td>\n",
       "    </tr>\n",
       "  </tbody>\n",
       "</table>\n",
       "</div>"
      ],
      "text/plain": [
       "                 age       new_user  total_pages_visited      converted\n",
       "count  316200.000000  316200.000000        316200.000000  316200.000000\n",
       "mean       30.569858       0.685465             4.872966       0.032258\n",
       "std         8.271802       0.464331             3.341104       0.176685\n",
       "min        17.000000       0.000000             1.000000       0.000000\n",
       "25%        24.000000       0.000000             2.000000       0.000000\n",
       "50%        30.000000       1.000000             4.000000       0.000000\n",
       "75%        36.000000       1.000000             7.000000       0.000000\n",
       "max       123.000000       1.000000            29.000000       1.000000"
      ]
     },
     "execution_count": 7,
     "metadata": {},
     "output_type": "execute_result"
    }
   ],
   "source": [
    "df.describe() # raw descriptive statistics for numeric variables"
   ]
  },
  {
   "cell_type": "code",
   "execution_count": 8,
   "id": "996f80a1",
   "metadata": {
    "collapsed": true
   },
   "outputs": [
    {
     "name": "stdout",
     "output_type": "stream",
     "text": [
      "\n",
      "country value counts:\n",
      "country\n",
      "US         178092\n",
      "China       76602\n",
      "UK          48450\n",
      "Germany     13056\n",
      "Name: count, dtype: int64\n",
      "\n",
      "source value counts:\n",
      "source\n",
      "Seo       155040\n",
      "Ads        88740\n",
      "Direct     72420\n",
      "Name: count, dtype: int64\n"
     ]
    }
   ],
   "source": [
    "for c in [\"country\",\"source\"]:\n",
    "    print(f\"\\n{c} value counts:\")\n",
    "    print(df[c].value_counts(dropna=False)) # check all categories"
   ]
  },
  {
   "cell_type": "markdown",
   "id": "9fb31d6c",
   "metadata": {},
   "source": [
    "## 2. Clean data "
   ]
  },
  {
   "cell_type": "code",
   "execution_count": 9,
   "id": "71e49b98",
   "metadata": {
    "collapsed": true
   },
   "outputs": [
    {
     "data": {
      "text/plain": [
       "count    316200.000000\n",
       "mean         30.536388\n",
       "std           8.170274\n",
       "min          17.000000\n",
       "25%          24.000000\n",
       "50%          30.000000\n",
       "75%          36.000000\n",
       "max          52.000000\n",
       "Name: age, dtype: float64"
      ]
     },
     "execution_count": 9,
     "metadata": {},
     "output_type": "execute_result"
    }
   ],
   "source": [
    "# no missing data in this dataset as checking\n",
    "# only working on outliers\n",
    "df[\"age\"] = df[\"age\"].clip(upper=np.percentile(df[\"age\"],99)) # keep plausible human ages in 99th percentile\n",
    "df[\"age\"].describe()"
   ]
  },
  {
   "cell_type": "markdown",
   "id": "08d95240",
   "metadata": {},
   "source": [
    "## 3. Data summary"
   ]
  },
  {
   "cell_type": "code",
   "execution_count": 10,
   "id": "707d22e2",
   "metadata": {
    "collapsed": true
   },
   "outputs": [
    {
     "name": "stdout",
     "output_type": "stream",
     "text": [
      "<class 'pandas.core.frame.DataFrame'>\n",
      "RangeIndex: 316200 entries, 0 to 316199\n",
      "Data columns (total 6 columns):\n",
      " #   Column               Non-Null Count   Dtype \n",
      "---  ------               --------------   ----- \n",
      " 0   country              316200 non-null  object\n",
      " 1   age                  316200 non-null  int64 \n",
      " 2   new_user             316200 non-null  int64 \n",
      " 3   source               316200 non-null  object\n",
      " 4   total_pages_visited  316200 non-null  int64 \n",
      " 5   converted            316200 non-null  int64 \n",
      "dtypes: int64(4), object(2)\n",
      "memory usage: 14.5+ MB\n"
     ]
    }
   ],
   "source": [
    "df.info()"
   ]
  },
  {
   "cell_type": "code",
   "execution_count": 11,
   "id": "5dd2183d",
   "metadata": {
    "collapsed": true
   },
   "outputs": [
    {
     "data": {
      "text/html": [
       "<div>\n",
       "<style scoped>\n",
       "    .dataframe tbody tr th:only-of-type {\n",
       "        vertical-align: middle;\n",
       "    }\n",
       "\n",
       "    .dataframe tbody tr th {\n",
       "        vertical-align: top;\n",
       "    }\n",
       "\n",
       "    .dataframe thead th {\n",
       "        text-align: right;\n",
       "    }\n",
       "</style>\n",
       "<table border=\"1\" class=\"dataframe\">\n",
       "  <thead>\n",
       "    <tr style=\"text-align: right;\">\n",
       "      <th></th>\n",
       "      <th>age</th>\n",
       "      <th>new_user</th>\n",
       "      <th>total_pages_visited</th>\n",
       "      <th>converted</th>\n",
       "    </tr>\n",
       "  </thead>\n",
       "  <tbody>\n",
       "    <tr>\n",
       "      <th>count</th>\n",
       "      <td>316200.000000</td>\n",
       "      <td>316200.000000</td>\n",
       "      <td>316200.000000</td>\n",
       "      <td>316200.000000</td>\n",
       "    </tr>\n",
       "    <tr>\n",
       "      <th>mean</th>\n",
       "      <td>30.536388</td>\n",
       "      <td>0.685465</td>\n",
       "      <td>4.872966</td>\n",
       "      <td>0.032258</td>\n",
       "    </tr>\n",
       "    <tr>\n",
       "      <th>std</th>\n",
       "      <td>8.170274</td>\n",
       "      <td>0.464331</td>\n",
       "      <td>3.341104</td>\n",
       "      <td>0.176685</td>\n",
       "    </tr>\n",
       "    <tr>\n",
       "      <th>min</th>\n",
       "      <td>17.000000</td>\n",
       "      <td>0.000000</td>\n",
       "      <td>1.000000</td>\n",
       "      <td>0.000000</td>\n",
       "    </tr>\n",
       "    <tr>\n",
       "      <th>25%</th>\n",
       "      <td>24.000000</td>\n",
       "      <td>0.000000</td>\n",
       "      <td>2.000000</td>\n",
       "      <td>0.000000</td>\n",
       "    </tr>\n",
       "    <tr>\n",
       "      <th>50%</th>\n",
       "      <td>30.000000</td>\n",
       "      <td>1.000000</td>\n",
       "      <td>4.000000</td>\n",
       "      <td>0.000000</td>\n",
       "    </tr>\n",
       "    <tr>\n",
       "      <th>75%</th>\n",
       "      <td>36.000000</td>\n",
       "      <td>1.000000</td>\n",
       "      <td>7.000000</td>\n",
       "      <td>0.000000</td>\n",
       "    </tr>\n",
       "    <tr>\n",
       "      <th>max</th>\n",
       "      <td>52.000000</td>\n",
       "      <td>1.000000</td>\n",
       "      <td>29.000000</td>\n",
       "      <td>1.000000</td>\n",
       "    </tr>\n",
       "  </tbody>\n",
       "</table>\n",
       "</div>"
      ],
      "text/plain": [
       "                 age       new_user  total_pages_visited      converted\n",
       "count  316200.000000  316200.000000        316200.000000  316200.000000\n",
       "mean       30.536388       0.685465             4.872966       0.032258\n",
       "std         8.170274       0.464331             3.341104       0.176685\n",
       "min        17.000000       0.000000             1.000000       0.000000\n",
       "25%        24.000000       0.000000             2.000000       0.000000\n",
       "50%        30.000000       1.000000             4.000000       0.000000\n",
       "75%        36.000000       1.000000             7.000000       0.000000\n",
       "max        52.000000       1.000000            29.000000       1.000000"
      ]
     },
     "execution_count": 11,
     "metadata": {},
     "output_type": "execute_result"
    }
   ],
   "source": [
    "df.describe()"
   ]
  },
  {
   "cell_type": "code",
   "execution_count": 12,
   "id": "e7b307ec",
   "metadata": {
    "collapsed": true
   },
   "outputs": [
    {
     "name": "stdout",
     "output_type": "stream",
     "text": [
      "\n",
      "country value counts:\n",
      "country\n",
      "US         178092\n",
      "China       76602\n",
      "UK          48450\n",
      "Germany     13056\n",
      "Name: count, dtype: int64\n",
      "\n",
      "source value counts:\n",
      "source\n",
      "Seo       155040\n",
      "Ads        88740\n",
      "Direct     72420\n",
      "Name: count, dtype: int64\n"
     ]
    }
   ],
   "source": [
    "for c in [\"country\",\"source\"]:\n",
    "    print(f\"\\n{c} value counts:\")\n",
    "    print(df[c].value_counts(dropna=False)) # check all categories"
   ]
  },
  {
   "cell_type": "markdown",
   "id": "97d95fea",
   "metadata": {},
   "source": [
    "## 4. Data visualization"
   ]
  },
  {
   "cell_type": "code",
   "execution_count": 13,
   "id": "cf42e6d4",
   "metadata": {},
   "outputs": [],
   "source": [
    "\n",
    "def barplot_from_df(x,y,title,xlabel,ylabel):\n",
    "    plt.figure(figsize=(8,5))\n",
    "    plt.bar(x,y)\n",
    "    plt.title(title)\n",
    "    plt.xlabel(xlabel)\n",
    "    plt.ylabel(ylabel)\n",
    "    plt.xticks(rotation=30, ha=\"right\")\n",
    "    plt.tight_layout()\n",
    "    plt.show"
   ]
  },
  {
   "cell_type": "code",
   "execution_count": 14,
   "id": "ef2e4b32",
   "metadata": {
    "collapsed": true
   },
   "outputs": [
    {
     "data": {
      "text/plain": [
       "country\n",
       "Germany    0.062500\n",
       "UK         0.052632\n",
       "US         0.037801\n",
       "China      0.001332\n",
       "Name: converted, dtype: float64"
      ]
     },
     "execution_count": 14,
     "metadata": {},
     "output_type": "execute_result"
    }
   ],
   "source": [
    "# get conversion rate by country and draw the plot\n",
    "cr_by_country = df.groupby(\"country\")[\"converted\"].mean().sort_values(ascending=False)\n",
    "cr_by_country"
   ]
  },
  {
   "cell_type": "code",
   "execution_count": 15,
   "id": "9953ba34",
   "metadata": {
    "collapsed": true
   },
   "outputs": [
    {
     "data": {
      "image/png": "[encoded data removed]",
      "text/plain": [
       "<Figure size 576x360 with 1 Axes>"
      ]
     },
     "metadata": {
      "needs_background": "light"
     },
     "output_type": "display_data"
    }
   ],
   "source": [
    "barplot_from_df(cr_by_country.index, cr_by_country.values, \"Conversion rate by country\", \"country\", \"conversion rate\")"
   ]
  },
  {
   "cell_type": "code",
   "execution_count": 16,
   "id": "d493e0ab",
   "metadata": {
    "collapsed": true
   },
   "outputs": [
    {
     "data": {
      "text/plain": [
       "source\n",
       "Ads       0.034483\n",
       "Seo       0.032895\n",
       "Direct    0.028169\n",
       "Name: converted, dtype: float64"
      ]
     },
     "execution_count": 16,
     "metadata": {},
     "output_type": "execute_result"
    }
   ],
   "source": [
    "# get conversion rate by source and draw the plot\n",
    "cr_by_source = df.groupby(\"source\")[\"converted\"].mean().sort_values(ascending=False)\n",
    "cr_by_source"
   ]
  },
  {
   "cell_type": "code",
   "execution_count": 17,
   "id": "7fe909ee",
   "metadata": {
    "collapsed": true
   },
   "outputs": [
    {
     "data": {
      "image/png": "[encoded data removed]",
      "text/plain": [
       "<Figure size 576x360 with 1 Axes>"
      ]
     },
     "metadata": {
      "needs_background": "light"
     },
     "output_type": "display_data"
    }
   ],
   "source": [
    "barplot_from_df(cr_by_source.index, cr_by_source.values, \"Conversion rate by source\", \"source\", \"conversion rate\")"
   ]
  },
  {
   "cell_type": "code",
   "execution_count": 18,
   "id": "b662f78a",
   "metadata": {
    "collapsed": true
   },
   "outputs": [
    {
     "data": {
      "text/plain": [
       "new_user\n",
       "0    0.072002\n",
       "1    0.014021\n",
       "Name: converted, dtype: float64"
      ]
     },
     "execution_count": 18,
     "metadata": {},
     "output_type": "execute_result"
    }
   ],
   "source": [
    "# get conversion rate by user and draw the plot\n",
    "cr_by_newuser = df.groupby(\"new_user\")[\"converted\"].mean()\n",
    "cr_by_newuser"
   ]
  },
  {
   "cell_type": "code",
   "execution_count": 19,
   "id": "baa2d810",
   "metadata": {
    "collapsed": true
   },
   "outputs": [
    {
     "data": {
      "image/png": "[encoded data removed]",
      "text/plain": [
       "<Figure size 576x360 with 1 Axes>"
      ]
     },
     "metadata": {
      "needs_background": "light"
     },
     "output_type": "display_data"
    }
   ],
   "source": [
    "barplot_from_df([\"returning(0)\",\"new(1)\"], [cr_by_newuser.get(0,0), cr_by_newuser.get(1,0)], \"Conversion rate - returning vs new\", \"user type\", \"conversion rate\")"
   ]
  },
  {
   "cell_type": "code",
   "execution_count": 20,
   "id": "31ba8410",
   "metadata": {
    "collapsed": true
   },
   "outputs": [
    {
     "data": {
      "text/plain": [
       "0.00    17.0\n",
       "0.25    24.0\n",
       "0.50    30.0\n",
       "0.75    36.0\n",
       "0.95    45.0\n",
       "0.99    52.0\n",
       "1.00    52.0\n",
       "Name: age, dtype: float64"
      ]
     },
     "execution_count": 20,
     "metadata": {},
     "output_type": "execute_result"
    }
   ],
   "source": [
    "# get conversion rate for age and # of pages visited in buckets and draw the plot\n",
    "df[\"age\"].quantile([0, .25, .5, .75, .95, .99, 1.0])"
   ]
  },
  {
   "cell_type": "code",
   "execution_count": 21,
   "id": "c87f5eed",
   "metadata": {
    "collapsed": true
   },
   "outputs": [
    {
     "name": "stderr",
     "output_type": "stream",
     "text": [
      "C:\\Users\\yajie\\AppData\\Local\\Temp/ipykernel_45472/3572905948.py:4: FutureWarning: The default of observed=False is deprecated and will be changed to True in a future version of pandas. Pass observed=False to retain current behavior or observed=True to adopt the future default and silence this warning.\n",
      "  cr_by_age_bucket = df.groupby(\"age_bucket\")[\"converted\"].mean()\n"
     ]
    },
    {
     "data": {
      "image/png": "[encoded data removed]",
      "text/plain": [
       "<Figure size 576x360 with 1 Axes>"
      ]
     },
     "metadata": {
      "needs_background": "light"
     },
     "output_type": "display_data"
    }
   ],
   "source": [
    "age_bins = [17,24,30,35,40,45,50,60]\n",
    "age_labels = [\"17-24\",\"25-30\",\"31-35\",\"36-40\",\"41-45\",\"46-50\",\"51+\"]\n",
    "df[\"age_bucket\"] = pd.cut(df[\"age\"], bins=age_bins, labels=age_labels, include_lowest=True)\n",
    "cr_by_age_bucket = df.groupby(\"age_bucket\")[\"converted\"].mean()\n",
    "barplot_from_df(cr_by_age_bucket.index.astype(str), cr_by_age_bucket.values,\n",
    "                \"Conversion rate by age bucket\", \"age bucket\", \"conversion rate\")"
   ]
  },
  {
   "cell_type": "code",
   "execution_count": 22,
   "id": "9f6ae089",
   "metadata": {
    "collapsed": true
   },
   "outputs": [
    {
     "data": {
      "text/plain": [
       "0.00     1.0\n",
       "0.25     2.0\n",
       "0.50     4.0\n",
       "0.75     7.0\n",
       "0.95    11.0\n",
       "0.99    17.0\n",
       "1.00    29.0\n",
       "Name: total_pages_visited, dtype: float64"
      ]
     },
     "execution_count": 22,
     "metadata": {},
     "output_type": "execute_result"
    }
   ],
   "source": [
    "df[\"total_pages_visited\"].quantile([0, .25, .5, .75, .95, .99, 1.0])"
   ]
  },
  {
   "cell_type": "code",
   "execution_count": 23,
   "id": "9145f991",
   "metadata": {
    "collapsed": true
   },
   "outputs": [
    {
     "name": "stderr",
     "output_type": "stream",
     "text": [
      "C:\\Users\\yajie\\AppData\\Local\\Temp/ipykernel_45472/3511556872.py:4: FutureWarning: The default of observed=False is deprecated and will be changed to True in a future version of pandas. Pass observed=False to retain current behavior or observed=True to adopt the future default and silence this warning.\n",
      "  cr_by_pages_bucket = df.groupby(\"pages_bucket\")[\"converted\"].mean()\n"
     ]
    },
    {
     "data": {
      "image/png": "[encoded data removed]",
      "text/plain": [
       "<Figure size 576x360 with 1 Axes>"
      ]
     },
     "metadata": {
      "needs_background": "light"
     },
     "output_type": "display_data"
    }
   ],
   "source": [
    "pv_bins = [1,2,3,4,5,6,7,8,9,11,15,30]\n",
    "pv_labels = [\"1\",\"2\",\"3\",\"4\",\"5\",\"6\",\"7\",\"8\",\"9-10\",\"11-15\",\"16+\"]\n",
    "df[\"pages_bucket\"] = pd.cut(df[\"total_pages_visited\"], bins=pv_bins, labels=pv_labels, include_lowest=True)\n",
    "cr_by_pages_bucket = df.groupby(\"pages_bucket\")[\"converted\"].mean()\n",
    "barplot_from_df(cr_by_pages_bucket.index.astype(str), cr_by_pages_bucket.values,\"Conversion rate by pages visited\", \"pages bucket\", \"conversion rate\")"
   ]
  },
  {
   "cell_type": "code",
   "execution_count": 24,
   "id": "99956dbd",
   "metadata": {
    "collapsed": true
   },
   "outputs": [
    {
     "data": {
      "image/png": "[encoded data removed]",
      "text/plain": [
       "<Figure size 576x360 with 1 Axes>"
      ]
     },
     "metadata": {
      "needs_background": "light"
     },
     "output_type": "display_data"
    }
   ],
   "source": [
    "# Distribution histograms\n",
    "def hist_series(series, title, xlabel):\n",
    "    plt.figure(figsize=(8,5))\n",
    "    plt.hist(series.dropna(), bins=30)\n",
    "    plt.title(title)\n",
    "    plt.xlabel(xlabel)\n",
    "    plt.ylabel(\"count\")\n",
    "    plt.tight_layout()\n",
    "    plt.show()\n",
    "hist_series(df[\"age\"], \"Age distribution\", \"age (years)\")"
   ]
  },
  {
   "cell_type": "code",
   "execution_count": 25,
   "id": "a265aea1",
   "metadata": {
    "collapsed": true
   },
   "outputs": [
    {
     "data": {
      "image/png": "[encoded data removed]",
      "text/plain": [
       "<Figure size 576x360 with 1 Axes>"
      ]
     },
     "metadata": {
      "needs_background": "light"
     },
     "output_type": "display_data"
    }
   ],
   "source": [
    "hist_series(df[\"total_pages_visited\"], \"Pages visited distribution\", \"pages\")"
   ]
  },
  {
   "cell_type": "markdown",
   "id": "4f27d6a0",
   "metadata": {},
   "source": [
    "## 5. Data clssification"
   ]
  },
  {
   "cell_type": "code",
   "execution_count": 26,
   "id": "9ebc7531",
   "metadata": {},
   "outputs": [],
   "source": [
    "# Setup\n",
    "Features = [\"country\",\"source\",\"age\",\"new_user\",\"total_pages_visited\"]\n",
    "Target = \"converted\"\n",
    "X = df[Features].copy()\n",
    "y = df[Target].copy()\n",
    "categorical = [\"country\",\"source\"]\n",
    "numeric = [\"age\",\"new_user\",\"total_pages_visited\"]\n",
    "# for logistic model, transform categorical feature into 0/1 indicator for each category and standardization for numeric features.\n",
    "preprocess_lr = ColumnTransformer([(\"cat\",OneHotEncoder(drop=\"first\", handle_unknown=\"ignore\"),categorical),\n",
    "                                    (\"num\", Pipeline(steps=[(\"scaler\", StandardScaler())]), numeric)])\n",
    "# for Random forest model, transform categorical feature into 0/1 indicator for each category and keep raw data for numeric features.\n",
    "preprocess_rf = ColumnTransformer([(\"cat\", OneHotEncoder(drop=\"first\", handle_unknown=\"ignore\"), categorical),\n",
    "                                   (\"num\", \"passthrough\", numeric)])\n",
    "# set up training set and test set\n",
    "X_train, X_test, y_train, y_test = train_test_split(X, y, test_size=0.2, random_state=RANDOM_STATE, stratify=y)"
   ]
  },
  {
   "cell_type": "markdown",
   "id": "7adf2290",
   "metadata": {},
   "source": [
    "### 5.1 Logisitic regression model"
   ]
  },
  {
   "cell_type": "code",
   "execution_count": 27,
   "id": "c93ac8e5",
   "metadata": {
    "collapsed": true
   },
   "outputs": [
    {
     "name": "stdout",
     "output_type": "stream",
     "text": [
      "\n",
      "--- Logistic Regression ---\n",
      "ROC AUC: 0.986\n",
      "Average Precision (PR AUC): 0.8429\n",
      "\n",
      "Confusion matrix @ 0.5:\n",
      " [[57596  3604]\n",
      " [  123  1917]]\n",
      "\n",
      "Classification report:\n",
      "               precision    recall  f1-score   support\n",
      "\n",
      "           0      0.998     0.941     0.969     61200\n",
      "           1      0.347     0.940     0.507      2040\n",
      "\n",
      "    accuracy                          0.941     63240\n",
      "   macro avg      0.673     0.940     0.738     63240\n",
      "weighted avg      0.977     0.941     0.954     63240\n",
      "\n"
     ]
    }
   ],
   "source": [
    "log_reg = LogisticRegression(\n",
    "    max_iter=1000,\n",
    "    class_weight=\"balanced\",     # handle class imbalance\n",
    "    solver=\"lbfgs\"\n",
    ")\n",
    "pipe_lr = Pipeline([(\"prep\", preprocess_lr), (\"clf\", log_reg)])\n",
    "pipe_lr.fit(X_train, y_train)\n",
    "\n",
    "y_prob_lr = pipe_lr.predict_proba(X_test)[:, 1]\n",
    "y_pred_lr = (y_prob_lr >= 0.5).astype(int)\n",
    "\n",
    "roc_auc_lr = roc_auc_score(y_test, y_prob_lr)\n",
    "ap_lr = average_precision_score(y_test, y_prob_lr)\n",
    "cm_lr = confusion_matrix(y_test, y_pred_lr)\n",
    "report_lr = classification_report(y_test, y_pred_lr, digits=3)\n",
    "print(\"\\n--- Logistic Regression ---\")\n",
    "print(\"ROC AUC:\", round(roc_auc_lr, 4))\n",
    "print(\"Average Precision (PR AUC):\", round(ap_lr, 4))\n",
    "print(\"\\nConfusion matrix @ 0.5:\\n\", cm_lr)\n",
    "print(\"\\nClassification report:\\n\", report_lr)"
   ]
  },
  {
   "cell_type": "code",
   "execution_count": 28,
   "id": "c39139ac",
   "metadata": {
    "collapsed": true
   },
   "outputs": [
    {
     "data": {
      "image/png": "[encoded data removed]",
      "text/plain": [
       "<Figure size 432x360 with 1 Axes>"
      ]
     },
     "metadata": {
      "needs_background": "light"
     },
     "output_type": "display_data"
    }
   ],
   "source": [
    "# ROC curve\n",
    "fpr, tpr, _ = roc_curve(y_test, y_prob_lr)\n",
    "plt.figure(figsize=(6,5))\n",
    "plt.plot(fpr, tpr, label=f\"LR (AUC={roc_auc_lr:.3f})\")\n",
    "plt.plot([0,1],[0,1])\n",
    "plt.title(\"ROC curve (Logistic Regression)\")\n",
    "plt.xlabel(\"False Positive Rate\"); plt.ylabel(\"True Positive Rate\")\n",
    "plt.tight_layout(); plt.show()"
   ]
  },
  {
   "cell_type": "code",
   "execution_count": 29,
   "id": "077bc037",
   "metadata": {
    "collapsed": true
   },
   "outputs": [
    {
     "data": {
      "image/png": "[encoded data removed]",
      "text/plain": [
       "<Figure size 432x360 with 1 Axes>"
      ]
     },
     "metadata": {
      "needs_background": "light"
     },
     "output_type": "display_data"
    }
   ],
   "source": [
    "# PR curve\n",
    "prec, rec, _ = precision_recall_curve(y_test, y_prob_lr)\n",
    "plt.figure(figsize=(6,5))\n",
    "plt.plot(rec, prec, label=f\"LR (AP={ap_lr:.3f})\")\n",
    "plt.title(\"Precision-Recall curve (Logistic Regression)\")\n",
    "plt.xlabel(\"Recall\"); plt.ylabel(\"Precision\")\n",
    "plt.tight_layout(); plt.show()"
   ]
  },
  {
   "cell_type": "code",
   "execution_count": 30,
   "id": "87447ac0",
   "metadata": {
    "collapsed": true
   },
   "outputs": [
    {
     "name": "stdout",
     "output_type": "stream",
     "text": [
      "\n",
      " LR coefficients from positive to negative:\n"
     ]
    },
    {
     "data": {
      "text/html": [
       "<div>\n",
       "<style scoped>\n",
       "    .dataframe tbody tr th:only-of-type {\n",
       "        vertical-align: middle;\n",
       "    }\n",
       "\n",
       "    .dataframe tbody tr th {\n",
       "        vertical-align: top;\n",
       "    }\n",
       "\n",
       "    .dataframe thead th {\n",
       "        text-align: right;\n",
       "    }\n",
       "</style>\n",
       "<table border=\"1\" class=\"dataframe\">\n",
       "  <thead>\n",
       "    <tr style=\"text-align: right;\">\n",
       "      <th></th>\n",
       "      <th>feature</th>\n",
       "      <th>coef</th>\n",
       "    </tr>\n",
       "  </thead>\n",
       "  <tbody>\n",
       "    <tr>\n",
       "      <th>0</th>\n",
       "      <td>country_Germany</td>\n",
       "      <td>4.007494</td>\n",
       "    </tr>\n",
       "    <tr>\n",
       "      <th>1</th>\n",
       "      <td>country_UK</td>\n",
       "      <td>3.703692</td>\n",
       "    </tr>\n",
       "    <tr>\n",
       "      <th>2</th>\n",
       "      <td>country_US</td>\n",
       "      <td>3.375559</td>\n",
       "    </tr>\n",
       "    <tr>\n",
       "      <th>7</th>\n",
       "      <td>total_pages_visited</td>\n",
       "      <td>2.537719</td>\n",
       "    </tr>\n",
       "    <tr>\n",
       "      <th>4</th>\n",
       "      <td>source_Seo</td>\n",
       "      <td>0.006500</td>\n",
       "    </tr>\n",
       "    <tr>\n",
       "      <th>3</th>\n",
       "      <td>source_Direct</td>\n",
       "      <td>-0.131269</td>\n",
       "    </tr>\n",
       "    <tr>\n",
       "      <th>5</th>\n",
       "      <td>age</td>\n",
       "      <td>-0.576183</td>\n",
       "    </tr>\n",
       "    <tr>\n",
       "      <th>6</th>\n",
       "      <td>new_user</td>\n",
       "      <td>-0.788091</td>\n",
       "    </tr>\n",
       "  </tbody>\n",
       "</table>\n",
       "</div>"
      ],
      "text/plain": [
       "               feature      coef\n",
       "0      country_Germany  4.007494\n",
       "1           country_UK  3.703692\n",
       "2           country_US  3.375559\n",
       "7  total_pages_visited  2.537719\n",
       "4           source_Seo  0.006500\n",
       "3        source_Direct -0.131269\n",
       "5                  age -0.576183\n",
       "6             new_user -0.788091"
      ]
     },
     "metadata": {},
     "output_type": "display_data"
    }
   ],
   "source": [
    "# Coefficients (after OHE+scaling)\n",
    "ohe_lr = pipe_lr.named_steps[\"prep\"].named_transformers_[\"cat\"]\n",
    "cat_names_lr = list(ohe_lr.get_feature_names_out(categorical))\n",
    "feature_names_lr = cat_names_lr + numeric\n",
    "coefs = pipe_lr.named_steps[\"clf\"].coef_.flatten()\n",
    "coef_df = pd.DataFrame({\"feature\": feature_names_lr, \"coef\": coefs}).sort_values(\"coef\", ascending=False)\n",
    "print(\"\\n LR coefficients from positive to negative:\")\n",
    "display(coef_df)"
   ]
  },
  {
   "cell_type": "markdown",
   "id": "3b9803a9",
   "metadata": {},
   "source": [
    "### 5.2 Random Forest model"
   ]
  },
  {
   "cell_type": "code",
   "execution_count": 31,
   "id": "2ea66c2c",
   "metadata": {
    "collapsed": true
   },
   "outputs": [
    {
     "name": "stdout",
     "output_type": "stream",
     "text": [
      "\n",
      "--- Random Forest ---\n",
      "ROC AUC: 0.961\n",
      "Average Precision (PR AUC): 0.7707\n",
      "\n",
      "Confusion matrix @ 0.5:\n",
      " [[58865  2335]\n",
      " [  299  1741]]\n",
      "\n",
      "Classification report:\n",
      "               precision    recall  f1-score   support\n",
      "\n",
      "           0      0.995     0.962     0.978     61200\n",
      "           1      0.427     0.853     0.569      2040\n",
      "\n",
      "    accuracy                          0.958     63240\n",
      "   macro avg      0.711     0.908     0.774     63240\n",
      "weighted avg      0.977     0.958     0.965     63240\n",
      "\n"
     ]
    }
   ],
   "source": [
    "rf = RandomForestClassifier(\n",
    "    n_estimators=200,\n",
    "    min_samples_leaf=2,\n",
    "    random_state=RANDOM_STATE,\n",
    "    n_jobs=-1,\n",
    "    class_weight=\"balanced_subsample\"\n",
    ")\n",
    "pipe_rf = Pipeline([(\"prep\", preprocess_rf), (\"clf\", rf)])\n",
    "pipe_rf.fit(X_train, y_train)\n",
    "\n",
    "y_prob_rf = pipe_rf.predict_proba(X_test)[:, 1]\n",
    "y_pred_rf = (y_prob_rf >= 0.5).astype(int)\n",
    "\n",
    "roc_auc_rf = roc_auc_score(y_test, y_prob_rf)\n",
    "ap_rf = average_precision_score(y_test, y_prob_rf)\n",
    "cm_rf = confusion_matrix(y_test, y_pred_rf)\n",
    "report_rf = classification_report(y_test, y_pred_rf, digits=3)\n",
    "\n",
    "print(\"\\n--- Random Forest ---\")\n",
    "print(\"ROC AUC:\", round(roc_auc_rf, 4))\n",
    "print(\"Average Precision (PR AUC):\", round(ap_rf, 4))\n",
    "print(\"\\nConfusion matrix @ 0.5:\\n\", cm_rf)\n",
    "print(\"\\nClassification report:\\n\", report_rf)"
   ]
  },
  {
   "cell_type": "code",
   "execution_count": 32,
   "id": "0106a43b",
   "metadata": {
    "collapsed": true
   },
   "outputs": [
    {
     "data": {
      "image/png": "[encoded data removed]",
      "text/plain": [
       "<Figure size 432x360 with 1 Axes>"
      ]
     },
     "metadata": {
      "needs_background": "light"
     },
     "output_type": "display_data"
    }
   ],
   "source": [
    "# ROC curve\n",
    "fpr, tpr, _ = roc_curve(y_test, y_prob_rf)\n",
    "plt.figure(figsize=(6,5))\n",
    "plt.plot(fpr, tpr, label=f\"RF (AUC={roc_auc_rf:.3f})\")\n",
    "plt.plot([0,1],[0,1])\n",
    "plt.title(\"ROC curve (Random Forest)\")\n",
    "plt.xlabel(\"False Positive Rate\"); plt.ylabel(\"True Positive Rate\")\n",
    "plt.tight_layout(); plt.show()"
   ]
  },
  {
   "cell_type": "code",
   "execution_count": 33,
   "id": "8645d5ef",
   "metadata": {
    "collapsed": true
   },
   "outputs": [
    {
     "data": {
      "image/png": "[encoded data removed]",
      "text/plain": [
       "<Figure size 432x360 with 1 Axes>"
      ]
     },
     "metadata": {
      "needs_background": "light"
     },
     "output_type": "display_data"
    }
   ],
   "source": [
    "# PR curve\n",
    "prec, rec, _ = precision_recall_curve(y_test, y_prob_rf)\n",
    "plt.figure(figsize=(6,5))\n",
    "plt.plot(rec, prec, label=f\"RF (AP={ap_rf:.3f})\")\n",
    "plt.title(\"Precision-Recall curve (Random Forest)\")\n",
    "plt.xlabel(\"Recall\"); plt.ylabel(\"Precision\")\n",
    "plt.tight_layout(); plt.show()"
   ]
  },
  {
   "cell_type": "code",
   "execution_count": 34,
   "id": "0a412db9",
   "metadata": {
    "collapsed": true
   },
   "outputs": [
    {
     "name": "stdout",
     "output_type": "stream",
     "text": [
      "\n",
      "Random Forest feature importances:\n"
     ]
    },
    {
     "data": {
      "text/html": [
       "<div>\n",
       "<style scoped>\n",
       "    .dataframe tbody tr th:only-of-type {\n",
       "        vertical-align: middle;\n",
       "    }\n",
       "\n",
       "    .dataframe tbody tr th {\n",
       "        vertical-align: top;\n",
       "    }\n",
       "\n",
       "    .dataframe thead th {\n",
       "        text-align: right;\n",
       "    }\n",
       "</style>\n",
       "<table border=\"1\" class=\"dataframe\">\n",
       "  <thead>\n",
       "    <tr style=\"text-align: right;\">\n",
       "      <th></th>\n",
       "      <th>feature</th>\n",
       "      <th>importance</th>\n",
       "    </tr>\n",
       "  </thead>\n",
       "  <tbody>\n",
       "    <tr>\n",
       "      <th>7</th>\n",
       "      <td>total_pages_visited</td>\n",
       "      <td>0.769958</td>\n",
       "    </tr>\n",
       "    <tr>\n",
       "      <th>5</th>\n",
       "      <td>age</td>\n",
       "      <td>0.091865</td>\n",
       "    </tr>\n",
       "    <tr>\n",
       "      <th>6</th>\n",
       "      <td>new_user</td>\n",
       "      <td>0.080496</td>\n",
       "    </tr>\n",
       "    <tr>\n",
       "      <th>2</th>\n",
       "      <td>country_US</td>\n",
       "      <td>0.019414</td>\n",
       "    </tr>\n",
       "    <tr>\n",
       "      <th>1</th>\n",
       "      <td>country_UK</td>\n",
       "      <td>0.018260</td>\n",
       "    </tr>\n",
       "    <tr>\n",
       "      <th>0</th>\n",
       "      <td>country_Germany</td>\n",
       "      <td>0.014021</td>\n",
       "    </tr>\n",
       "    <tr>\n",
       "      <th>4</th>\n",
       "      <td>source_Seo</td>\n",
       "      <td>0.003274</td>\n",
       "    </tr>\n",
       "    <tr>\n",
       "      <th>3</th>\n",
       "      <td>source_Direct</td>\n",
       "      <td>0.002713</td>\n",
       "    </tr>\n",
       "  </tbody>\n",
       "</table>\n",
       "</div>"
      ],
      "text/plain": [
       "               feature  importance\n",
       "7  total_pages_visited    0.769958\n",
       "5                  age    0.091865\n",
       "6             new_user    0.080496\n",
       "2           country_US    0.019414\n",
       "1           country_UK    0.018260\n",
       "0      country_Germany    0.014021\n",
       "4           source_Seo    0.003274\n",
       "3        source_Direct    0.002713"
      ]
     },
     "metadata": {},
     "output_type": "display_data"
    }
   ],
   "source": [
    "# Feature importances\n",
    "ohe_rf = pipe_rf.named_steps[\"prep\"].named_transformers_[\"cat\"]\n",
    "cat_names_rf = list(ohe_rf.get_feature_names_out(categorical))\n",
    "rf_feature_names = cat_names_rf + numeric\n",
    "\n",
    "rf_importances = pipe_rf.named_steps[\"clf\"].feature_importances_\n",
    "fi_df = pd.DataFrame({\"feature\": rf_feature_names, \"importance\": rf_importances}).sort_values(\"importance\", ascending=False)\n",
    "print(\"\\nRandom Forest feature importances:\")\n",
    "display(fi_df)"
   ]
  },
  {
   "cell_type": "code",
   "execution_count": 35,
   "id": "a6d92ff0",
   "metadata": {
    "collapsed": true
   },
   "outputs": [
    {
     "data": {
      "image/png": "[encoded data removed]",
      "text/plain": [
       "<Figure size 648x432 with 1 Axes>"
      ]
     },
     "metadata": {
      "needs_background": "light"
     },
     "output_type": "display_data"
    }
   ],
   "source": [
    "plt.figure(figsize=(9,6))\n",
    "plt.bar(fi_df[\"feature\"], fi_df[\"importance\"])\n",
    "plt.title(\"Top feature importances (Random Forest)\")\n",
    "plt.xticks(rotation=60, ha=\"right\"); plt.tight_layout(); plt.show()"
   ]
  },
  {
   "cell_type": "markdown",
   "id": "cff23f7b",
   "metadata": {},
   "source": [
    "### 5.3 XGBoost Model"
   ]
  },
  {
   "cell_type": "code",
   "execution_count": 38,
   "id": "462ffa9d",
   "metadata": {
    "collapsed": true
   },
   "outputs": [
    {
     "name": "stdout",
     "output_type": "stream",
     "text": [
      "Requirement already satisfied: xgboost in c:\\users\\yajie\\appdata\\local\\programs\\python\\python39\\lib\\site-packages (2.1.4)\n",
      "Requirement already satisfied: numpy in c:\\users\\yajie\\appdata\\local\\programs\\python\\python39\\lib\\site-packages (from xgboost) (2.0.2)\n",
      "Requirement already satisfied: scipy in c:\\users\\yajie\\appdata\\local\\programs\\python\\python39\\lib\\site-packages (from xgboost) (1.13.1)\n"
     ]
    },
    {
     "name": "stderr",
     "output_type": "stream",
     "text": [
      "\n",
      "[notice] A new release of pip is available: 24.2 -> 25.2\n",
      "[notice] To update, run: python.exe -m pip install --upgrade pip\n"
     ]
    }
   ],
   "source": [
    "!pip install xgboost"
   ]
  },
  {
   "cell_type": "code",
   "execution_count": 39,
   "id": "f88e4bbe",
   "metadata": {
    "collapsed": true
   },
   "outputs": [
    {
     "name": "stdout",
     "output_type": "stream",
     "text": [
      "\\n--- XGBoost ---\n",
      "ROC AUC: 0.9853\n",
      "Average Precision (PR AUC): 0.8376\n",
      "\\nConfusion matrix @ 0.5:\\n [[60924   276]\n",
      " [  636  1404]]\n",
      "\\nClassification report:\\n               precision    recall  f1-score   support\n",
      "\n",
      "           0      0.990     0.995     0.993     61200\n",
      "           1      0.836     0.688     0.755      2040\n",
      "\n",
      "    accuracy                          0.986     63240\n",
      "   macro avg      0.913     0.842     0.874     63240\n",
      "weighted avg      0.985     0.986     0.985     63240\n",
      "\n"
     ]
    }
   ],
   "source": [
    "from xgboost import XGBClassifier\n",
    "\n",
    "# Use the RF-style preprocessing (OHE for categorical, passthrough numeric)\n",
    "# If you prefer standardization for numerics, you can swap to preprocess_lr.\n",
    "xgb = XGBClassifier(\n",
    "    n_estimators=500,\n",
    "    max_depth=6,\n",
    "    learning_rate=0.05,\n",
    "    subsample=0.8,\n",
    "    colsample_bytree=0.8,\n",
    "    reg_lambda=1.0,\n",
    "    objective=\"binary:logistic\",\n",
    "    eval_metric=\"logloss\",\n",
    "    random_state=RANDOM_STATE,\n",
    "    n_jobs=-1,\n",
    "    tree_method=\"hist\"   # fast, scalable\n",
    ")\n",
    "\n",
    "pipe_xgb = Pipeline([(\"prep\", preprocess_rf), (\"clf\", xgb)])\n",
    "pipe_xgb.fit(X_train, y_train)\n",
    "\n",
    "y_prob_xgb = pipe_xgb.predict_proba(X_test)[:, 1]\n",
    "y_pred_xgb = (y_prob_xgb >= 0.5).astype(int)\n",
    "\n",
    "roc_auc_xgb = roc_auc_score(y_test, y_prob_xgb)\n",
    "ap_xgb = average_precision_score(y_test, y_prob_xgb)\n",
    "cm_xgb = confusion_matrix(y_test, y_pred_xgb)\n",
    "report_xgb = classification_report(y_test, y_pred_xgb, digits=3)\n",
    "\n",
    "print(\"\\\\n--- XGBoost ---\")\n",
    "print(\"ROC AUC:\", round(roc_auc_xgb, 4))\n",
    "print(\"Average Precision (PR AUC):\", round(ap_xgb, 4))\n",
    "print(\"\\\\nConfusion matrix @ 0.5:\\\\n\", cm_xgb)\n",
    "print(\"\\\\nClassification report:\\\\n\", report_xgb)"
   ]
  },
  {
   "cell_type": "code",
   "execution_count": 42,
   "id": "22e0827c",
   "metadata": {
    "collapsed": true
   },
   "outputs": [
    {
     "data": {
      "image/png": "[encoded data removed]",
      "text/plain": [
       "<Figure size 432x360 with 1 Axes>"
      ]
     },
     "metadata": {
      "needs_background": "light"
     },
     "output_type": "display_data"
    }
   ],
   "source": [
    "# ROC curve\n",
    "fpr, tpr, _ = roc_curve(y_test, y_prob_xgb)\n",
    "plt.figure(figsize=(6,5))\n",
    "plt.plot(fpr, tpr, label=f\"XGB (AUC={roc_auc_xgb:.3f})\")\n",
    "plt.plot([0,1],[0,1])\n",
    "plt.title(\"ROC curve (XGBoost)\")\n",
    "plt.xlabel(\"False Positive Rate\"); plt.ylabel(\"True Positive Rate\")\n",
    "plt.tight_layout(); plt.show()"
   ]
  },
  {
   "cell_type": "code",
   "execution_count": 40,
   "id": "e7bf7805",
   "metadata": {
    "collapsed": true
   },
   "outputs": [
    {
     "name": "stdout",
     "output_type": "stream",
     "text": [
      "Top XGBoost features:\n"
     ]
    },
    {
     "data": {
      "text/html": [
       "<div>\n",
       "<style scoped>\n",
       "    .dataframe tbody tr th:only-of-type {\n",
       "        vertical-align: middle;\n",
       "    }\n",
       "\n",
       "    .dataframe tbody tr th {\n",
       "        vertical-align: top;\n",
       "    }\n",
       "\n",
       "    .dataframe thead th {\n",
       "        text-align: right;\n",
       "    }\n",
       "</style>\n",
       "<table border=\"1\" class=\"dataframe\">\n",
       "  <thead>\n",
       "    <tr style=\"text-align: right;\">\n",
       "      <th></th>\n",
       "      <th>feature</th>\n",
       "      <th>importance</th>\n",
       "    </tr>\n",
       "  </thead>\n",
       "  <tbody>\n",
       "    <tr>\n",
       "      <th>7</th>\n",
       "      <td>total_pages_visited</td>\n",
       "      <td>0.666331</td>\n",
       "    </tr>\n",
       "    <tr>\n",
       "      <th>6</th>\n",
       "      <td>new_user</td>\n",
       "      <td>0.139846</td>\n",
       "    </tr>\n",
       "    <tr>\n",
       "      <th>1</th>\n",
       "      <td>country_UK</td>\n",
       "      <td>0.056413</td>\n",
       "    </tr>\n",
       "    <tr>\n",
       "      <th>0</th>\n",
       "      <td>country_Germany</td>\n",
       "      <td>0.054581</td>\n",
       "    </tr>\n",
       "    <tr>\n",
       "      <th>2</th>\n",
       "      <td>country_US</td>\n",
       "      <td>0.043343</td>\n",
       "    </tr>\n",
       "    <tr>\n",
       "      <th>5</th>\n",
       "      <td>age</td>\n",
       "      <td>0.021488</td>\n",
       "    </tr>\n",
       "    <tr>\n",
       "      <th>3</th>\n",
       "      <td>source_Direct</td>\n",
       "      <td>0.009656</td>\n",
       "    </tr>\n",
       "    <tr>\n",
       "      <th>4</th>\n",
       "      <td>source_Seo</td>\n",
       "      <td>0.008343</td>\n",
       "    </tr>\n",
       "  </tbody>\n",
       "</table>\n",
       "</div>"
      ],
      "text/plain": [
       "               feature  importance\n",
       "7  total_pages_visited    0.666331\n",
       "6             new_user    0.139846\n",
       "1           country_UK    0.056413\n",
       "0      country_Germany    0.054581\n",
       "2           country_US    0.043343\n",
       "5                  age    0.021488\n",
       "3        source_Direct    0.009656\n",
       "4           source_Seo    0.008343"
      ]
     },
     "metadata": {},
     "output_type": "display_data"
    },
    {
     "data": {
      "image/png": "[encoded data removed]",
      "text/plain": [
       "<Figure size 576x432 with 1 Axes>"
      ]
     },
     "metadata": {
      "needs_background": "light"
     },
     "output_type": "display_data"
    }
   ],
   "source": [
    "# XGBoost feature importance\n",
    "\n",
    "# Get the final feature names after preprocessing\n",
    "# For the RF-style preprocessor: OHE(categorical) + passthrough(numeric)\n",
    "ohe = pipe_xgb.named_steps[\"prep\"].transformers_[0][1]  # the OneHotEncoder\n",
    "ohe_features = list(ohe.get_feature_names_out(categorical))\n",
    "all_features = ohe_features + numeric\n",
    "\n",
    "importances = pipe_xgb.named_steps[\"clf\"].feature_importances_\n",
    "# Align lengths (in rare cases, OHE may drop unseen categories)\n",
    "imp_df = pd.DataFrame({\"feature\": all_features[:len(importances)], \"importance\": importances})\n",
    "top_imp = imp_df.sort_values(\"importance\", ascending=False).head(20)\n",
    "\n",
    "print(\"Top XGBoost features:\")\n",
    "display(top_imp)\n",
    "\n",
    "plt.figure(figsize=(8,6))\n",
    "plt.barh(top_imp[\"feature\"][::-1], top_imp[\"importance\"][::-1])\n",
    "plt.title(\"XGBoost — Top 20 Feature Importances\")\n",
    "plt.tight_layout()\n",
    "plt.show()"
   ]
  },
  {
   "cell_type": "markdown",
   "id": "b0fe7f87",
   "metadata": {},
   "source": [
    "### 5.4 Model comparison"
   ]
  },
  {
   "cell_type": "code",
   "execution_count": 45,
   "id": "e0ccc350",
   "metadata": {},
   "outputs": [
    {
     "data": {
      "text/html": [
       "<div>\n",
       "<style scoped>\n",
       "    .dataframe tbody tr th:only-of-type {\n",
       "        vertical-align: middle;\n",
       "    }\n",
       "\n",
       "    .dataframe tbody tr th {\n",
       "        vertical-align: top;\n",
       "    }\n",
       "\n",
       "    .dataframe thead th {\n",
       "        text-align: right;\n",
       "    }\n",
       "</style>\n",
       "<table border=\"1\" class=\"dataframe\">\n",
       "  <thead>\n",
       "    <tr style=\"text-align: right;\">\n",
       "      <th></th>\n",
       "      <th>model</th>\n",
       "      <th>roc_auc</th>\n",
       "      <th>avg_precision</th>\n",
       "    </tr>\n",
       "  </thead>\n",
       "  <tbody>\n",
       "    <tr>\n",
       "      <th>0</th>\n",
       "      <td>LogisticRegression</td>\n",
       "      <td>0.985951</td>\n",
       "      <td>0.842901</td>\n",
       "    </tr>\n",
       "    <tr>\n",
       "      <th>2</th>\n",
       "      <td>XGBoost</td>\n",
       "      <td>0.985339</td>\n",
       "      <td>0.837556</td>\n",
       "    </tr>\n",
       "    <tr>\n",
       "      <th>1</th>\n",
       "      <td>RandomForest</td>\n",
       "      <td>0.960990</td>\n",
       "      <td>0.770731</td>\n",
       "    </tr>\n",
       "  </tbody>\n",
       "</table>\n",
       "</div>"
      ],
      "text/plain": [
       "                model   roc_auc  avg_precision\n",
       "0  LogisticRegression  0.985951       0.842901\n",
       "2             XGBoost  0.985339       0.837556\n",
       "1        RandomForest  0.960990       0.770731"
      ]
     },
     "metadata": {},
     "output_type": "display_data"
    }
   ],
   "source": [
    "compare_df = pd.DataFrame({\n",
    "    \"model\": [\"LogisticRegression\",\"RandomForest\",\"XGBoost\"],\n",
    "    \"roc_auc\": [roc_auc_lr, roc_auc_rf, roc_auc_xgb],\n",
    "    \"avg_precision\": [ap_lr, ap_rf,ap_xgb]\n",
    "})\n",
    "display(compare_df.sort_values(\"roc_auc\", ascending=False))"
   ]
  },
  {
   "cell_type": "code",
   "execution_count": 46,
   "id": "e88334f4",
   "metadata": {
    "collapsed": true
   },
   "outputs": [
    {
     "data": {
      "image/png": "[encoded data removed]",
      "text/plain": [
       "<Figure size 432x360 with 1 Axes>"
      ]
     },
     "metadata": {
      "needs_background": "light"
     },
     "output_type": "display_data"
    }
   ],
   "source": [
    "# Combined ROC\n",
    "fpr_lr, tpr_lr, _ = roc_curve(y_test, y_prob_lr)\n",
    "fpr_rf, tpr_rf, _ = roc_curve(y_test, y_prob_rf)\n",
    "fpr_xgb, tpr_xgb, _ = roc_curve(y_test, y_prob_xgb)\n",
    "plt.figure(figsize=(6,5))\n",
    "plt.plot(fpr_lr, tpr_lr, label=f\"LR (AUC={roc_auc_lr:.3f})\")\n",
    "plt.plot(fpr_rf, tpr_rf, label=f\"RF (AUC={roc_auc_rf:.3f})\")\n",
    "plt.plot(fpr_xgb, tpr_xgb, label=f\"XGB (AUC={roc_auc_xgb:.3f})\")\n",
    "plt.plot([0,1],[0,1])\n",
    "plt.legend()\n",
    "plt.title(\"ROC curves (comparison)\")\n",
    "plt.xlabel(\"False Positive Rate\"); plt.ylabel(\"True Positive Rate\")\n",
    "plt.tight_layout(); plt.show()"
   ]
  },
  {
   "cell_type": "code",
   "execution_count": 48,
   "id": "71e25b0f",
   "metadata": {
    "collapsed": true
   },
   "outputs": [
    {
     "data": {
      "image/png": "[encoded data removed]",
      "text/plain": [
       "<Figure size 432x360 with 1 Axes>"
      ]
     },
     "metadata": {
      "needs_background": "light"
     },
     "output_type": "display_data"
    }
   ],
   "source": [
    "# Combined PR\n",
    "prec_lr, rec_lr, _ = precision_recall_curve(y_test, y_prob_lr)\n",
    "prec_rf, rec_rf, _ = precision_recall_curve(y_test, y_prob_rf)\n",
    "prec_xgb, rec_xgb, _ = precision_recall_curve(y_test, y_prob_xgb)\n",
    "plt.figure(figsize=(6,5))\n",
    "plt.plot(rec_lr, prec_lr, label=f\"LR (AP={ap_lr:.3f})\")\n",
    "plt.plot(rec_rf, prec_rf, label=f\"RF (AP={ap_rf:.3f})\")\n",
    "plt.plot(rec_xgb, prec_xgb, label=f\"XGB (AP={ap_xgb:.3f})\")\n",
    "plt.legend()\n",
    "plt.title(\"Precision-Recall curves (comparison)\")\n",
    "plt.xlabel(\"Recall\"); plt.ylabel(\"Precision\")\n",
    "plt.tight_layout(); plt.show()"
   ]
  },
  {
   "cell_type": "markdown",
   "id": "20ac8e81",
   "metadata": {},
   "source": [
    "Based on Three model comparison, Logistic regression model is better with higher ROC AUC and higher PR AUC. "
   ]
  },
  {
   "cell_type": "markdown",
   "id": "7c6a1942",
   "metadata": {},
   "source": [
    "## 6. Segment discovery: high/low conversion groups"
   ]
  },
  {
   "cell_type": "code",
   "execution_count": 37,
   "id": "2f123cb2",
   "metadata": {
    "collapsed": true
   },
   "outputs": [
    {
     "data": {
      "text/html": [
       "<div>\n",
       "<style scoped>\n",
       "    .dataframe tbody tr th:only-of-type {\n",
       "        vertical-align: middle;\n",
       "    }\n",
       "\n",
       "    .dataframe tbody tr th {\n",
       "        vertical-align: top;\n",
       "    }\n",
       "\n",
       "    .dataframe thead th {\n",
       "        text-align: right;\n",
       "    }\n",
       "</style>\n",
       "<table border=\"1\" class=\"dataframe\">\n",
       "  <thead>\n",
       "    <tr style=\"text-align: right;\">\n",
       "      <th></th>\n",
       "      <th>country</th>\n",
       "      <th>source</th>\n",
       "      <th>new_user</th>\n",
       "      <th>min_pages</th>\n",
       "      <th>min_age</th>\n",
       "      <th>max_age</th>\n",
       "      <th>n</th>\n",
       "      <th>cr</th>\n",
       "    </tr>\n",
       "  </thead>\n",
       "  <tbody>\n",
       "    <tr>\n",
       "      <th>20</th>\n",
       "      <td>US</td>\n",
       "      <td>Ads</td>\n",
       "      <td>0</td>\n",
       "      <td>9</td>\n",
       "      <td>25</td>\n",
       "      <td>45</td>\n",
       "      <td>1723</td>\n",
       "      <td>0.422519</td>\n",
       "    </tr>\n",
       "    <tr>\n",
       "      <th>28</th>\n",
       "      <td>US</td>\n",
       "      <td>Seo</td>\n",
       "      <td>0</td>\n",
       "      <td>9</td>\n",
       "      <td>25</td>\n",
       "      <td>45</td>\n",
       "      <td>2896</td>\n",
       "      <td>0.406077</td>\n",
       "    </tr>\n",
       "    <tr>\n",
       "      <th>36</th>\n",
       "      <td>US</td>\n",
       "      <td>Direct</td>\n",
       "      <td>0</td>\n",
       "      <td>9</td>\n",
       "      <td>25</td>\n",
       "      <td>45</td>\n",
       "      <td>1332</td>\n",
       "      <td>0.372372</td>\n",
       "    </tr>\n",
       "    <tr>\n",
       "      <th>7</th>\n",
       "      <td>UK</td>\n",
       "      <td>Seo</td>\n",
       "      <td>0</td>\n",
       "      <td>7</td>\n",
       "      <td>25</td>\n",
       "      <td>45</td>\n",
       "      <td>1629</td>\n",
       "      <td>0.302640</td>\n",
       "    </tr>\n",
       "    <tr>\n",
       "      <th>19</th>\n",
       "      <td>US</td>\n",
       "      <td>Ads</td>\n",
       "      <td>0</td>\n",
       "      <td>7</td>\n",
       "      <td>25</td>\n",
       "      <td>45</td>\n",
       "      <td>3107</td>\n",
       "      <td>0.244609</td>\n",
       "    </tr>\n",
       "    <tr>\n",
       "      <th>27</th>\n",
       "      <td>US</td>\n",
       "      <td>Seo</td>\n",
       "      <td>0</td>\n",
       "      <td>7</td>\n",
       "      <td>25</td>\n",
       "      <td>45</td>\n",
       "      <td>5341</td>\n",
       "      <td>0.230856</td>\n",
       "    </tr>\n",
       "    <tr>\n",
       "      <th>35</th>\n",
       "      <td>US</td>\n",
       "      <td>Direct</td>\n",
       "      <td>0</td>\n",
       "      <td>7</td>\n",
       "      <td>25</td>\n",
       "      <td>45</td>\n",
       "      <td>2434</td>\n",
       "      <td>0.210764</td>\n",
       "    </tr>\n",
       "    <tr>\n",
       "      <th>6</th>\n",
       "      <td>UK</td>\n",
       "      <td>Seo</td>\n",
       "      <td>0</td>\n",
       "      <td>5</td>\n",
       "      <td>25</td>\n",
       "      <td>45</td>\n",
       "      <td>2718</td>\n",
       "      <td>0.184327</td>\n",
       "    </tr>\n",
       "    <tr>\n",
       "      <th>1</th>\n",
       "      <td>UK</td>\n",
       "      <td>Ads</td>\n",
       "      <td>0</td>\n",
       "      <td>5</td>\n",
       "      <td>25</td>\n",
       "      <td>45</td>\n",
       "      <td>1439</td>\n",
       "      <td>0.177901</td>\n",
       "    </tr>\n",
       "    <tr>\n",
       "      <th>11</th>\n",
       "      <td>UK</td>\n",
       "      <td>Seo</td>\n",
       "      <td>1</td>\n",
       "      <td>9</td>\n",
       "      <td>25</td>\n",
       "      <td>45</td>\n",
       "      <td>1247</td>\n",
       "      <td>0.165196</td>\n",
       "    </tr>\n",
       "  </tbody>\n",
       "</table>\n",
       "</div>"
      ],
      "text/plain": [
       "   country  source  new_user  min_pages  min_age  max_age     n        cr\n",
       "20      US     Ads         0          9       25       45  1723  0.422519\n",
       "28      US     Seo         0          9       25       45  2896  0.406077\n",
       "36      US  Direct         0          9       25       45  1332  0.372372\n",
       "7       UK     Seo         0          7       25       45  1629  0.302640\n",
       "19      US     Ads         0          7       25       45  3107  0.244609\n",
       "27      US     Seo         0          7       25       45  5341  0.230856\n",
       "35      US  Direct         0          7       25       45  2434  0.210764\n",
       "6       UK     Seo         0          5       25       45  2718  0.184327\n",
       "1       UK     Ads         0          5       25       45  1439  0.177901\n",
       "11      UK     Seo         1          9       25       45  1247  0.165196"
      ]
     },
     "metadata": {},
     "output_type": "display_data"
    },
    {
     "data": {
      "text/html": [
       "<div>\n",
       "<style scoped>\n",
       "    .dataframe tbody tr th:only-of-type {\n",
       "        vertical-align: middle;\n",
       "    }\n",
       "\n",
       "    .dataframe tbody tr th {\n",
       "        vertical-align: top;\n",
       "    }\n",
       "\n",
       "    .dataframe thead th {\n",
       "        text-align: right;\n",
       "    }\n",
       "</style>\n",
       "<table border=\"1\" class=\"dataframe\">\n",
       "  <thead>\n",
       "    <tr style=\"text-align: right;\">\n",
       "      <th></th>\n",
       "      <th>country</th>\n",
       "      <th>source</th>\n",
       "      <th>new_user</th>\n",
       "      <th>min_pages</th>\n",
       "      <th>min_age</th>\n",
       "      <th>max_age</th>\n",
       "      <th>n</th>\n",
       "      <th>cr</th>\n",
       "    </tr>\n",
       "  </thead>\n",
       "  <tbody>\n",
       "    <tr>\n",
       "      <th>58</th>\n",
       "      <td>China</td>\n",
       "      <td>Direct</td>\n",
       "      <td>1</td>\n",
       "      <td>7</td>\n",
       "      <td>25</td>\n",
       "      <td>45</td>\n",
       "      <td>1880</td>\n",
       "      <td>0.002660</td>\n",
       "    </tr>\n",
       "    <tr>\n",
       "      <th>52</th>\n",
       "      <td>China</td>\n",
       "      <td>Seo</td>\n",
       "      <td>1</td>\n",
       "      <td>7</td>\n",
       "      <td>25</td>\n",
       "      <td>45</td>\n",
       "      <td>4160</td>\n",
       "      <td>0.001923</td>\n",
       "    </tr>\n",
       "    <tr>\n",
       "      <th>54</th>\n",
       "      <td>China</td>\n",
       "      <td>Direct</td>\n",
       "      <td>0</td>\n",
       "      <td>3</td>\n",
       "      <td>25</td>\n",
       "      <td>45</td>\n",
       "      <td>2653</td>\n",
       "      <td>0.001885</td>\n",
       "    </tr>\n",
       "    <tr>\n",
       "      <th>46</th>\n",
       "      <td>China</td>\n",
       "      <td>Ads</td>\n",
       "      <td>1</td>\n",
       "      <td>7</td>\n",
       "      <td>25</td>\n",
       "      <td>45</td>\n",
       "      <td>2352</td>\n",
       "      <td>0.001701</td>\n",
       "    </tr>\n",
       "    <tr>\n",
       "      <th>57</th>\n",
       "      <td>China</td>\n",
       "      <td>Direct</td>\n",
       "      <td>1</td>\n",
       "      <td>5</td>\n",
       "      <td>25</td>\n",
       "      <td>45</td>\n",
       "      <td>3664</td>\n",
       "      <td>0.001638</td>\n",
       "    </tr>\n",
       "    <tr>\n",
       "      <th>56</th>\n",
       "      <td>China</td>\n",
       "      <td>Direct</td>\n",
       "      <td>1</td>\n",
       "      <td>3</td>\n",
       "      <td>25</td>\n",
       "      <td>45</td>\n",
       "      <td>5994</td>\n",
       "      <td>0.001001</td>\n",
       "    </tr>\n",
       "    <tr>\n",
       "      <th>51</th>\n",
       "      <td>China</td>\n",
       "      <td>Seo</td>\n",
       "      <td>1</td>\n",
       "      <td>5</td>\n",
       "      <td>25</td>\n",
       "      <td>45</td>\n",
       "      <td>7995</td>\n",
       "      <td>0.001001</td>\n",
       "    </tr>\n",
       "    <tr>\n",
       "      <th>45</th>\n",
       "      <td>China</td>\n",
       "      <td>Ads</td>\n",
       "      <td>1</td>\n",
       "      <td>5</td>\n",
       "      <td>25</td>\n",
       "      <td>45</td>\n",
       "      <td>4660</td>\n",
       "      <td>0.000858</td>\n",
       "    </tr>\n",
       "    <tr>\n",
       "      <th>50</th>\n",
       "      <td>China</td>\n",
       "      <td>Seo</td>\n",
       "      <td>1</td>\n",
       "      <td>3</td>\n",
       "      <td>25</td>\n",
       "      <td>45</td>\n",
       "      <td>13088</td>\n",
       "      <td>0.000611</td>\n",
       "    </tr>\n",
       "    <tr>\n",
       "      <th>44</th>\n",
       "      <td>China</td>\n",
       "      <td>Ads</td>\n",
       "      <td>1</td>\n",
       "      <td>3</td>\n",
       "      <td>25</td>\n",
       "      <td>45</td>\n",
       "      <td>7545</td>\n",
       "      <td>0.000530</td>\n",
       "    </tr>\n",
       "  </tbody>\n",
       "</table>\n",
       "</div>"
      ],
      "text/plain": [
       "   country  source  new_user  min_pages  min_age  max_age      n        cr\n",
       "58   China  Direct         1          7       25       45   1880  0.002660\n",
       "52   China     Seo         1          7       25       45   4160  0.001923\n",
       "54   China  Direct         0          3       25       45   2653  0.001885\n",
       "46   China     Ads         1          7       25       45   2352  0.001701\n",
       "57   China  Direct         1          5       25       45   3664  0.001638\n",
       "56   China  Direct         1          3       25       45   5994  0.001001\n",
       "51   China     Seo         1          5       25       45   7995  0.001001\n",
       "45   China     Ads         1          5       25       45   4660  0.000858\n",
       "50   China     Seo         1          3       25       45  13088  0.000611\n",
       "44   China     Ads         1          3       25       45   7545  0.000530"
      ]
     },
     "metadata": {},
     "output_type": "display_data"
    }
   ],
   "source": [
    "def segment_cr(dataframe, country=None, source=None, new_user=None, min_pages=None, max_pages=None, min_age=None, max_age=None):\n",
    "    d = dataframe\n",
    "    if country is not None: d = d[d[\"country\"].isin(country if isinstance(country, list) else [country])]\n",
    "    if source is not None: d = d[d[\"source\"].isin(source if isinstance(source, list) else [source])]\n",
    "    if new_user is not None: d = d[d[\"new_user\"].isin(new_user if isinstance(new_user, list) else [new_user])]\n",
    "    if min_pages is not None: d = d[d[\"total_pages_visited\"] >= min_pages]\n",
    "    if max_pages is not None: d = d[d[\"total_pages_visited\"] <= max_pages]\n",
    "    if min_age is not None: d = d[d[\"age\"] >= min_age]\n",
    "    if max_age is not None: d = d[d[\"age\"] <= max_age]\n",
    "    if len(d) == 0:\n",
    "        return None\n",
    "    return {\"n\": len(d), \"cr\": d[\"converted\"].mean()}\n",
    "\n",
    "min_n = 1000\n",
    "countries = df[\"country\"].unique().tolist()\n",
    "sources = df[\"source\"].unique().tolist()\n",
    "\n",
    "cands = []\n",
    "for c in countries:\n",
    "    for s in sources:\n",
    "        for nu in [0,1]:\n",
    "            for min_pages in [3,5,7,9]:\n",
    "                seg = segment_cr(df, country=[c], source=[s], new_user=[nu],\n",
    "                                 min_pages=min_pages, min_age=25, max_age=45)\n",
    "                if seg and seg[\"n\"] >= min_n:\n",
    "                    cands.append({\"country\":c,\"source\":s,\"new_user\":nu,\"min_pages\":min_pages,\n",
    "                                  \"min_age\":25,\"max_age\":45,\"n\":seg[\"n\"],\"cr\":seg[\"cr\"]})\n",
    "\n",
    "seg_df = pd.DataFrame(cands).sort_values(\"cr\", ascending=False)\n",
    "display(seg_df.head(10))\n",
    "display(seg_df.tail(10))"
   ]
  },
  {
   "cell_type": "markdown",
   "id": "4f022727",
   "metadata": {},
   "source": [
    "From the segment analysis, the returning users in US, hearing from Ads, age from 25 to 45, page visited more than 7 times have highest conversion rate."
   ]
  },
  {
   "cell_type": "markdown",
   "id": "55bb20d6",
   "metadata": {},
   "source": [
    "## 7. Turn scores into actions"
   ]
  },
  {
   "cell_type": "code",
   "execution_count": 50,
   "id": "2bc270ee",
   "metadata": {
    "collapsed": true
   },
   "outputs": [
    {
     "data": {
      "text/html": [
       "<div>\n",
       "<style scoped>\n",
       "    .dataframe tbody tr th:only-of-type {\n",
       "        vertical-align: middle;\n",
       "    }\n",
       "\n",
       "    .dataframe tbody tr th {\n",
       "        vertical-align: top;\n",
       "    }\n",
       "\n",
       "    .dataframe thead th {\n",
       "        text-align: right;\n",
       "    }\n",
       "</style>\n",
       "<table border=\"1\" class=\"dataframe\">\n",
       "  <thead>\n",
       "    <tr style=\"text-align: right;\">\n",
       "      <th></th>\n",
       "      <th>group</th>\n",
       "      <th>n</th>\n",
       "      <th>avg_score</th>\n",
       "      <th>actual_cr</th>\n",
       "    </tr>\n",
       "  </thead>\n",
       "  <tbody>\n",
       "    <tr>\n",
       "      <th>0</th>\n",
       "      <td>Top 10% score</td>\n",
       "      <td>6331</td>\n",
       "      <td>0.663199</td>\n",
       "      <td>0.289370</td>\n",
       "    </tr>\n",
       "    <tr>\n",
       "      <th>1</th>\n",
       "      <td>Bottom 90% score</td>\n",
       "      <td>56909</td>\n",
       "      <td>0.010404</td>\n",
       "      <td>0.003655</td>\n",
       "    </tr>\n",
       "  </tbody>\n",
       "</table>\n",
       "</div>"
      ],
      "text/plain": [
       "              group      n  avg_score  actual_cr\n",
       "0     Top 10% score   6331   0.663199   0.289370\n",
       "1  Bottom 90% score  56909   0.010404   0.003655"
      ]
     },
     "metadata": {},
     "output_type": "display_data"
    }
   ],
   "source": [
    "# Compare top decile vs others using RF scores \n",
    "scores_rf = pd.DataFrame({\"p_convert\": y_prob_rf, \"converted\": y_test.values}).reset_index(drop=True)\n",
    "threshold_top_decile = scores_rf[\"p_convert\"].quantile(0.90)\n",
    "scores_rf[\"top_decile_flag\"] = (scores_rf[\"p_convert\"] >= threshold_top_decile).astype(int)\n",
    "\n",
    "uplift = pd.DataFrame({ \n",
    "    \"group\": [\"Top 10% score\",\"Bottom 90% score\"],\n",
    "    \"n\": [int((scores_rf[\"top_decile_flag\"]==1).sum()), int((scores_rf[\"top_decile_flag\"]==0).sum())],\n",
    "    \"avg_score\": [scores_rf.loc[scores_rf[\"top_decile_flag\"]==1,\"p_convert\"].mean(),\n",
    "                  scores_rf.loc[scores_rf[\"top_decile_flag\"]==0,\"p_convert\"].mean()],\n",
    "    \"actual_cr\": [scores_rf.loc[scores_rf[\"top_decile_flag\"]==1,\"converted\"].mean(),\n",
    "                  scores_rf.loc[scores_rf[\"top_decile_flag\"]==0,\"converted\"].mean()],\n",
    "})\n",
    "display(uplift)"
   ]
  },
  {
   "cell_type": "code",
   "execution_count": 52,
   "id": "a62d3272",
   "metadata": {
    "collapsed": true
   },
   "outputs": [
    {
     "data": {
      "text/html": [
       "<div>\n",
       "<style scoped>\n",
       "    .dataframe tbody tr th:only-of-type {\n",
       "        vertical-align: middle;\n",
       "    }\n",
       "\n",
       "    .dataframe tbody tr th {\n",
       "        vertical-align: top;\n",
       "    }\n",
       "\n",
       "    .dataframe thead th {\n",
       "        text-align: right;\n",
       "    }\n",
       "</style>\n",
       "<table border=\"1\" class=\"dataframe\">\n",
       "  <thead>\n",
       "    <tr style=\"text-align: right;\">\n",
       "      <th></th>\n",
       "      <th>group</th>\n",
       "      <th>n</th>\n",
       "      <th>avg_score</th>\n",
       "      <th>actual_cr</th>\n",
       "    </tr>\n",
       "  </thead>\n",
       "  <tbody>\n",
       "    <tr>\n",
       "      <th>0</th>\n",
       "      <td>Top 10% score</td>\n",
       "      <td>6326</td>\n",
       "      <td>0.296287</td>\n",
       "      <td>0.289370</td>\n",
       "    </tr>\n",
       "    <tr>\n",
       "      <th>1</th>\n",
       "      <td>Bottom 90% score</td>\n",
       "      <td>56914</td>\n",
       "      <td>0.003203</td>\n",
       "      <td>0.003655</td>\n",
       "    </tr>\n",
       "  </tbody>\n",
       "</table>\n",
       "</div>"
      ],
      "text/plain": [
       "              group      n  avg_score  actual_cr\n",
       "0     Top 10% score   6326   0.296287   0.289370\n",
       "1  Bottom 90% score  56914   0.003203   0.003655"
      ]
     },
     "metadata": {},
     "output_type": "display_data"
    }
   ],
   "source": [
    "# Compare top decile vs others using XGBoost scores \n",
    "scores_xgb = pd.DataFrame({\"p_convert\": y_prob_xgb, \"converted\": y_test.values}).reset_index(drop=True)\n",
    "threshold_top_decile = scores_xgb[\"p_convert\"].quantile(0.90)\n",
    "scores_xgb[\"top_decile_flag\"] = (scores_xgb[\"p_convert\"] >= threshold_top_decile).astype(int)\n",
    "\n",
    "uplift = pd.DataFrame({ \n",
    "    \"group\": [\"Top 10% score\",\"Bottom 90% score\"],\n",
    "    \"n\": [int((scores_xgb[\"top_decile_flag\"]==1).sum()), int((scores_xgb[\"top_decile_flag\"]==0).sum())],\n",
    "    \"avg_score\": [scores_xgb.loc[scores_rf[\"top_decile_flag\"]==1,\"p_convert\"].mean(),\n",
    "                  scores_xgb.loc[scores_rf[\"top_decile_flag\"]==0,\"p_convert\"].mean()],\n",
    "    \"actual_cr\": [scores_xgb.loc[scores_rf[\"top_decile_flag\"]==1,\"converted\"].mean(),\n",
    "                  scores_xgb.loc[scores_rf[\"top_decile_flag\"]==0,\"converted\"].mean()],\n",
    "})\n",
    "display(uplift)"
   ]
  },
  {
   "cell_type": "code",
   "execution_count": 53,
   "id": "cbb15039",
   "metadata": {
    "collapsed": true
   },
   "outputs": [
    {
     "data": {
      "text/html": [
       "<div>\n",
       "<style scoped>\n",
       "    .dataframe tbody tr th:only-of-type {\n",
       "        vertical-align: middle;\n",
       "    }\n",
       "\n",
       "    .dataframe tbody tr th {\n",
       "        vertical-align: top;\n",
       "    }\n",
       "\n",
       "    .dataframe thead th {\n",
       "        text-align: right;\n",
       "    }\n",
       "</style>\n",
       "<table border=\"1\" class=\"dataframe\">\n",
       "  <thead>\n",
       "    <tr style=\"text-align: right;\">\n",
       "      <th></th>\n",
       "      <th>group</th>\n",
       "      <th>n</th>\n",
       "      <th>avg_score</th>\n",
       "      <th>actual_cr</th>\n",
       "    </tr>\n",
       "  </thead>\n",
       "  <tbody>\n",
       "    <tr>\n",
       "      <th>0</th>\n",
       "      <td>Top 10% score</td>\n",
       "      <td>6324</td>\n",
       "      <td>0.664610</td>\n",
       "      <td>0.289370</td>\n",
       "    </tr>\n",
       "    <tr>\n",
       "      <th>1</th>\n",
       "      <td>Bottom 90% score</td>\n",
       "      <td>56916</td>\n",
       "      <td>0.053559</td>\n",
       "      <td>0.003655</td>\n",
       "    </tr>\n",
       "  </tbody>\n",
       "</table>\n",
       "</div>"
      ],
      "text/plain": [
       "              group      n  avg_score  actual_cr\n",
       "0     Top 10% score   6324   0.664610   0.289370\n",
       "1  Bottom 90% score  56916   0.053559   0.003655"
      ]
     },
     "metadata": {},
     "output_type": "display_data"
    },
    {
     "name": "stdout",
     "output_type": "stream",
     "text": [
      "Wrote: C:\\Users\\yajie\\OneDrive\\Desktop\\ztgg\\Conversion rate\\scored_testset.csv\n"
     ]
    }
   ],
   "source": [
    "# Compare top decile vs others using LR scores\n",
    "scores_lr = pd.DataFrame({\"p_convert\": y_prob_lr, \"converted\": y_test.values}).reset_index(drop=True)\n",
    "threshold_top_decile = scores_lr[\"p_convert\"].quantile(0.90)\n",
    "scores_lr[\"top_decile_flag\"] = (scores_lr[\"p_convert\"] >= threshold_top_decile).astype(int)\n",
    "\n",
    "uplift = pd.DataFrame({ \n",
    "    \"group\": [\"Top 10% score\",\"Bottom 90% score\"],\n",
    "    \"n\": [int((scores_lr[\"top_decile_flag\"]==1).sum()), int((scores_lr[\"top_decile_flag\"]==0).sum())],\n",
    "    \"avg_score\": [scores_lr.loc[scores_rf[\"top_decile_flag\"]==1,\"p_convert\"].mean(),\n",
    "                  scores_lr.loc[scores_rf[\"top_decile_flag\"]==0,\"p_convert\"].mean()],\n",
    "    \"actual_cr\": [scores_lr.loc[scores_rf[\"top_decile_flag\"]==1,\"converted\"].mean(),\n",
    "                  scores_lr.loc[scores_rf[\"top_decile_flag\"]==0,\"converted\"].mean()],\n",
    "})\n",
    "display(uplift)\n",
    "\n",
    "# Export scored test set (both models) for activation\n",
    "scored = pd.DataFrame({\n",
    "    \"p_convert_rf\": y_prob_rf,\n",
    "    \"p_convert_lr\": y_prob_lr,\n",
    "    \"p_convert_xgb\": y_prob_xgb,\n",
    "    \"actual_converted\": y_test.values\n",
    "})\n",
    "out_path = r\"C:\\Users\\yajie\\OneDrive\\Desktop\\ztgg\\Conversion rate\\scored_testset.csv\"\n",
    "scored.to_csv(out_path, index=False)\n",
    "print(\"Wrote:\", out_path)"
   ]
  },
  {
   "cell_type": "markdown",
   "id": "d8a4b0c9",
   "metadata": {},
   "source": [
    "## 8.Conclusions and next steps"
   ]
  },
  {
   "cell_type": "markdown",
   "id": "39f3b2b6",
   "metadata": {},
   "source": [
    "The site is working very well for young users. Definitely let’s tell marketing to advertise and use channels which are more likely to reach young people.\n",
    "\n",
    "The site is working very well for Germany in terms of conversion. But the summary showed that there are few Germans coming to the site: way less than UK, despite a larger population. Again, marketing should get more Germans. Big opportunity.\n",
    "\n",
    "Users with old accounts do much better. Targeted emails with offers to bring them back to the site could be a good idea to try.\n",
    "\n",
    "Something is wrong with the Chinese version of the site. It is either poorly translated, doesn’t fit the local culture, or maybe some payment issue. Given how many users are based in China, fixing this should be a top priority. Huge opportunity.\n",
    "\n",
    "As you can see, product ideas usually end up being about:\n",
    "\n",
    "Identify segments that perform well, but have low absolute count (like Germany). Then tell marketing to get more of those people\n",
    "\n",
    "Tell product to fix the experience for the bad performing ones\n",
    "\n",
    "Bad performing segments with high absolute count (like China) usually provide the biggest opportunities for massive gains, if you can guess why that’s happening and then build a test to validate your hypothesis"
   ]
  },
  {
   "cell_type": "code",
   "execution_count": null,
   "id": "610d7fe8",
   "metadata": {},
   "outputs": [],
   "source": []
  }
 ],
 "metadata": {
  "kernelspec": {
   "display_name": "Python 3 (ipykernel)",
   "language": "python",
   "name": "python3"
  },
  "language_info": {
   "codemirror_mode": {
    "name": "ipython",
    "version": 3
   },
   "file_extension": ".py",
   "mimetype": "text/x-python",
   "name": "python",
   "nbconvert_exporter": "python",
   "pygments_lexer": "ipython3",
   "version": "3.9.9"
  }
 },
 "nbformat": 4,
 "nbformat_minor": 5
}
